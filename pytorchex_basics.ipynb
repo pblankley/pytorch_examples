{
 "cells": [
  {
   "cell_type": "markdown",
   "metadata": {},
   "source": [
    "## PyTorch Examples:\n",
    "\n",
    "Basic tutorials and examples for different functions of PyTorch."
   ]
  },
  {
   "cell_type": "code",
   "execution_count": 187,
   "metadata": {},
   "outputs": [],
   "source": [
    "# Imports \n",
    "import torch \n",
    "from torch.autograd import Variable\n",
    "import torch.nn as nn\n",
    "import torch.nn.functional as F\n",
    "import torch.optim as optim\n",
    "import numpy as np\n",
    "import seaborn as sns\n",
    "import matplotlib.pyplot as plt \n",
    "import torchvision\n",
    "import torchvision.transforms as transforms\n",
    "\n",
    "sns.set_palette('muted',color_codes=True)\n",
    "sns.set_context('paper')\n",
    "%matplotlib inline"
   ]
  },
  {
   "cell_type": "markdown",
   "metadata": {},
   "source": [
    "##### Tensors and basics:\n",
    "\n",
    "Any in place mutation is the function with an additional \"\\_\" affixed to the end. i.e add() -> add\\_()"
   ]
  },
  {
   "cell_type": "code",
   "execution_count": 36,
   "metadata": {},
   "outputs": [],
   "source": [
    "def histplot(histc,color='b'):\n",
    "    \"\"\" Takes in a torch histc Tensor and plots a seaborn distplot based on the bins\"\"\"\n",
    "    nbins = histc.size()[0]\n",
    "    x = []\n",
    "    for n in range(nbins):\n",
    "        x.append('bin_{}'.format(n))\n",
    "    sns.barplot(y=histc,x=x,color=color)\n",
    "    sns.despine()"
   ]
  },
  {
   "cell_type": "code",
   "execution_count": 199,
   "metadata": {},
   "outputs": [
    {
     "name": "stdout",
     "output_type": "stream",
     "text": [
      "Size: torch.Size([5, 3])\n",
      "\n",
      "-0.4554 -1.2981 -0.2544  0.0985  0.6190\n",
      " 0.3953 -2.2400 -0.8150  0.2968 -0.8265\n",
      " 1.0408 -1.1926  1.0119  0.1814  1.2837\n",
      "-0.4874  0.2415  0.1989 -0.3337  0.4727\n",
      "-1.6842  0.0877 -1.4097  0.1202 -0.2659\n",
      "[torch.FloatTensor of size 5x5]\n",
      "\n"
     ]
    },
    {
     "name": "stderr",
     "output_type": "stream",
     "text": [
      "/Users/paulblankley/anaconda3/lib/python3.6/site-packages/seaborn/categorical.py:1460: FutureWarning: remove_na is deprecated and is a private function. Do not use.\n",
      "  stat_data = remove_na(group_data)\n"
     ]
    },
    {
     "data": {
      "image/png": "[encoded data removed]",
      "text/plain": [
       "<matplotlib.figure.Figure at 0x128c71dd8>"
      ]
     },
     "metadata": {},
     "output_type": "display_data"
    }
   ],
   "source": [
    "torch.Tensor(5,3) # uninit tensor\n",
    "x = torch.rand(5,3)\n",
    "print('Size:',x.size())\n",
    "y = torch.rand(5,3)\n",
    "q = torch.histc(y,bins=3,min=0,max=1) # cuts the tensor into specified bins and plots with function below\n",
    "histplot(q)\n",
    "z = x+y # matrix addition\n",
    "z = torch.mm(x,y.transpose(0,1)) # matrix multiplication\n",
    "zo2 = torch.div(x,2.2) # elementwise value division \n",
    "z9 = torch.mul(x,9) # elementwise value multiply \n",
    "zy = torch.mul(x,y) # elementwise tensor multiplication (also given by the * operator, x*y==zy)\n",
    "x_1 = torch.randn(2, 5)\n",
    "y_1 = torch.randn(3, 5)\n",
    "z_1 = torch.cat([x_1, y_1])\n",
    "print(z_1)"
   ]
  },
  {
   "cell_type": "code",
   "execution_count": 91,
   "metadata": {},
   "outputs": [
    {
     "data": {
      "text/plain": [
       "\n",
       " 1  1  0  1  0  1\n",
       " 1  2  0  2  2  2\n",
       " 1  0  1  2  1  1\n",
       " 1  1  1  2  2  1\n",
       " 1  1  1  1  1  2\n",
       "[torch.LongTensor of size 5x6]"
      ]
     },
     "execution_count": 91,
     "metadata": {},
     "output_type": "execute_result"
    }
   ],
   "source": [
    "# Torch distributions\n",
    "torch.manual_seed(1002) # setting the random seed\n",
    "rand_normal = torch.randn(2,5)\n",
    "vec = torch.arange(1,10,.5)\n",
    "a = torch.Tensor(5,3).uniform_(0,1) # min, max \n",
    "b = torch.Tensor(5,3).uniform_(0,10) # min, max \n",
    "c = torch.Tensor(5,3).normal_(3,8) # mean, std \n",
    "d = torch.bernoulli(a) # assigns bernoulli with probabilities given in matrix a\n",
    "e = torch.normal(vec,3.2) # means and one std\n",
    "f = torch.normal(2.1,vec) # mean and vec of stds\n",
    "g = torch.normal(vec,torch.arange(10,1,-.5)) # vector of means and vector of stds\n",
    "gn = g.numpy() # Make the FloatTensor a numpy ndarray\n",
    "vb = torch.var(b) # gets the variance of a FloatTensor (expected 10)\n",
    "n1 = np.ones(10)\n",
    "t1 = torch.from_numpy(n1)\n",
    "# print(n1)\n",
    "# print(t1)\n",
    "\"\"\" Normalizes the input rows to be a probability distribution and treats the inputs as weights, returning\n",
    "    the indices drawn from the probability distribution in each row with the associated probability.  Default\n",
    "    does not resample, leading to even 0 probability events being chosen, but setting replacement=True flag \n",
    "    bootstraps from the row-wise distributions\"\"\"\n",
    "mn1 = torch.multinomial(b,2) # multinomial (gen of binomial) without resampling\n",
    "mn2 = torch.multinomial(b,6,replacement=True)\n",
    "mn2"
   ]
  },
  {
   "cell_type": "markdown",
   "metadata": {},
   "source": [
    "##### PyTorch Autograd:\n",
    "\n",
    "The most important objects are Variables and Functions. Variables wrap Tensors and Functions are referenced in Variables as .grad_fn and they represent the function that made the Variable. Variables created by user have .grad_fn = None."
   ]
  },
  {
   "cell_type": "code",
   "execution_count": 123,
   "metadata": {},
   "outputs": [
    {
     "name": "stdout",
     "output_type": "stream",
     "text": [
      "Notice there is no gradient now: None\n",
      "Initial has no grad because I made it:  None\n",
      "Second has a creating function:  <AddBackward0 object at 0x127b09588>\n",
      "Third has a creating function:  <MulBackward0 object at 0x127b09668>\n",
      "Now there is a gradient: Variable containing:\n",
      " 9.4500  9.4500\n",
      " 9.4500  9.4500\n",
      "[torch.FloatTensor of size 2x2]\n",
      "\n"
     ]
    }
   ],
   "source": [
    "# Autograd \n",
    "v = Variable(torch.ones(2,2),requires_grad=True)\n",
    "print('Notice there is no gradient now:',v.grad)\n",
    "print('Initial has no grad because I made it: ',v.grad_fn)\n",
    "v2 = v+2\n",
    "print('Second has a creating function: ',v2.grad_fn)\n",
    "v3 = v2*v2*3\n",
    "out = v3.mean()\n",
    "print('Third has a creating function: ', v3.grad_fn)\n",
    "out.backward(torch.Tensor([2.1])) # backprops over the whole graph to get back to the leaf (only works bc out is scalar)\n",
    "print('Now there is a gradient:',v.grad)"
   ]
  },
  {
   "cell_type": "code",
   "execution_count": 126,
   "metadata": {},
   "outputs": [
    {
     "name": "stdout",
     "output_type": "stream",
     "text": [
      "Variable containing:\n",
      " 1.6918\n",
      " 2.2049\n",
      " 0.3538\n",
      " 0.0134\n",
      "[torch.FloatTensor of size 4]\n",
      "\n",
      "Variable containing:\n",
      " 649.6390\n",
      " 846.6985\n",
      " 135.8650\n",
      "   5.1299\n",
      "[torch.FloatTensor of size 4]\n",
      "\n",
      "Variable containing:\n",
      " 576.0000\n",
      "  38.4000\n",
      "  38.4000\n",
      "   0.4224\n",
      "[torch.FloatTensor of size 4]\n",
      "\n"
     ]
    }
   ],
   "source": [
    "torch.manual_seed(1920)\n",
    "rv = Variable(torch.randn(4),requires_grad=True)\n",
    "print(rv)\n",
    "rv2 = rv*3\n",
    "while rv2.data.norm()<1000:\n",
    "    rv2 = rv2 * 2\n",
    "print(rv2)\n",
    "\n",
    "grads = torch.FloatTensor([1.5,.1,.1,.0011])\n",
    "rv2.backward(grads)\n",
    "print(rv.grad)"
   ]
  },
  {
   "cell_type": "markdown",
   "metadata": {},
   "source": [
    "##### PyTorch Neural Networks:\n",
    "\n",
    "Basic nn with convolutional layers, max pooling and relu transition functions "
   ]
  },
  {
   "cell_type": "code",
   "execution_count": 168,
   "metadata": {},
   "outputs": [
    {
     "name": "stdout",
     "output_type": "stream",
     "text": [
      "Net(\n",
      "  (conv1): Conv2d (1, 6, kernel_size=(5, 5), stride=(1, 1))\n",
      "  (conv2): Conv2d (6, 16, kernel_size=(5, 5), stride=(1, 1))\n",
      "  (fc1): Linear(in_features=400, out_features=120)\n",
      "  (fc2): Linear(in_features=120, out_features=84)\n",
      "  (fc3): Linear(in_features=84, out_features=10)\n",
      ")\n"
     ]
    }
   ],
   "source": [
    "class Net(nn.Module):\n",
    "    def __init__(self):\n",
    "        super(Net,self).__init__()\n",
    "        # Define the layers of the network:\n",
    "        # 1 input image channel, 6 output channels, 5x5 square convolution\n",
    "        # kernel\n",
    "        self.conv1 = nn.Conv2d(1, 6, 5)\n",
    "        self.conv2 = nn.Conv2d(6, 16, 5)\n",
    "        # an affine operation: y = Wx + b\n",
    "        self.fc1 = nn.Linear(16 * 5 * 5, 120)\n",
    "        self.fc2 = nn.Linear(120, 84)\n",
    "        self.fc3 = nn.Linear(84, 10)\n",
    "    \n",
    "    def forward(self, x):\n",
    "        # max pooling on a 2,2 2d window\n",
    "        x = F.max_pool2d(F.relu(self.conv1(x)),(2,2))\n",
    "        # same thing as above \n",
    "        x = F.max_pool2d(F.relu(self.conv2(x)),2)\n",
    "        \n",
    "        x = x.view(-1, self.num_flat_features(x))\n",
    "        x = F.relu(self.fc1(x))\n",
    "        x = F.relu(self.fc2(x))\n",
    "        x = self.fc3(x)\n",
    "        return x\n",
    "        \n",
    "    def num_flat_features(self, x):\n",
    "        size = x.size()[1:]  # all dimensions except the batch dimension\n",
    "        num_features = 1\n",
    "        for s in size:\n",
    "            num_features *= s\n",
    "        return num_features\n",
    "\n",
    "net = Net()\n",
    "print(net)"
   ]
  },
  {
   "cell_type": "markdown",
   "metadata": {},
   "source": [
    "##### Notes:\n",
    "You just have to define the forward function, and the backward function (where gradients are computed) is automatically defined for you using autograd. You can use any of the Tensor operations in the forward function.\n",
    "\n",
    "If you have a single variable (and not a mini-batch), just use input.unsqueeze(0)"
   ]
  },
  {
   "cell_type": "code",
   "execution_count": 169,
   "metadata": {},
   "outputs": [
    {
     "name": "stdout",
     "output_type": "stream",
     "text": [
      "10\n",
      "torch.Size([6, 1, 5, 5])\n",
      "Total learnable parameters: 61706\n"
     ]
    }
   ],
   "source": [
    "# The learnable parameters\n",
    "from functools import reduce\n",
    "params = list(net.parameters())\n",
    "print(len(params))\n",
    "print(params[0].size()) \n",
    "\n",
    "tot = 0\n",
    "for p in params:\n",
    "    tot+=reduce(lambda x,y: x*y, p.size())\n",
    "print('Total learnable parameters:',tot)"
   ]
  },
  {
   "cell_type": "code",
   "execution_count": 172,
   "metadata": {},
   "outputs": [
    {
     "name": "stdout",
     "output_type": "stream",
     "text": [
      "Variable containing:\n",
      " 0.0509 -0.1065  0.0100 -0.1165  0.1113 -0.0402 -0.0552  0.0047 -0.0047  0.0382\n",
      "[torch.FloatTensor of size 1x10]\n",
      "\n"
     ]
    }
   ],
   "source": [
    "inpt = Variable(torch.randn([1,1,32,32]))\n",
    "out = net(inpt)\n",
    "print(out)\n",
    "\n",
    "net.zero_grad()\n",
    "out.backward(torch.randn([1,10]))"
   ]
  },
  {
   "cell_type": "code",
   "execution_count": 179,
   "metadata": {},
   "outputs": [
    {
     "name": "stdout",
     "output_type": "stream",
     "text": [
      "Variable containing:\n",
      " 37.9665\n",
      "[torch.FloatTensor of size 1]\n",
      "\n",
      "<MseLossBackward object at 0x127b08a58>\n",
      "<AddmmBackward object at 0x127b08978>\n",
      "<ExpandBackward object at 0x127b08a58>\n",
      "conv1.bias.grad before backward\n",
      "Variable containing:\n",
      " 0\n",
      " 0\n",
      " 0\n",
      " 0\n",
      " 0\n",
      " 0\n",
      "[torch.FloatTensor of size 6]\n",
      "\n",
      "conv1.bias.grad after backward\n",
      "Variable containing:\n",
      "-0.0412\n",
      "-0.1619\n",
      "-0.0199\n",
      "-0.0742\n",
      "-0.0201\n",
      "-0.0242\n",
      "[torch.FloatTensor of size 6]\n",
      "\n"
     ]
    }
   ],
   "source": [
    "outp = net(inpt)\n",
    "ex_tar = Variable(torch.arange(1,11,1))\n",
    "ex_criterion = nn.MSELoss()\n",
    "\n",
    "loss = ex_criterion(outp,ex_tar)\n",
    "print(loss)\n",
    "\n",
    "print(loss.grad_fn)  # MSELoss\n",
    "print(loss.grad_fn.next_functions[0][0])  # Linear\n",
    "print(loss.grad_fn.next_functions[0][0].next_functions[0][0])  # ReLU\n",
    "\n",
    "net.zero_grad()     # zeroes the gradient buffers of all parameters\n",
    "\n",
    "print('conv1.bias.grad before backward')\n",
    "print(net.conv1.bias.grad)\n",
    "\n",
    "loss.backward()\n",
    "\n",
    "print('conv1.bias.grad after backward')\n",
    "print(net.conv1.bias.grad)"
   ]
  },
  {
   "cell_type": "code",
   "execution_count": 176,
   "metadata": {},
   "outputs": [],
   "source": [
    "# Weight updates - simple\n",
    "learning_rate = 0.01\n",
    "for p in net.parameters():\n",
    "    p.data.sub_(p.grad.data * learning_rate)"
   ]
  },
  {
   "cell_type": "code",
   "execution_count": 182,
   "metadata": {},
   "outputs": [],
   "source": [
    "# Weight updates - realistic\n",
    "\n",
    "# create your optimizer\n",
    "optimizer = optim.SGD(net.parameters(), lr=0.01)\n",
    "\n",
    "# in your training loop:\n",
    "optimizer.zero_grad()   # zero the gradient buffers\n",
    "outpt = net(inpt)\n",
    "loss = ex_criterion(outpt, ex_tar)\n",
    "loss.backward()\n",
    "optimizer.step()  "
   ]
  },
  {
   "cell_type": "markdown",
   "metadata": {},
   "source": [
    "##### Get some data CIFAR10 image dataset"
   ]
  },
  {
   "cell_type": "code",
   "execution_count": 188,
   "metadata": {},
   "outputs": [
    {
     "name": "stdout",
     "output_type": "stream",
     "text": [
      "Downloading https://www.cs.toronto.edu/~kriz/cifar-10-python.tar.gz to ./data/cifar-10-python.tar.gz\n",
      "Files already downloaded and verified\n"
     ]
    }
   ],
   "source": [
    "transform = transforms.Compose(\n",
    "    [transforms.ToTensor(),\n",
    "     transforms.Normalize((0.5, 0.5, 0.5), (0.5, 0.5, 0.5))])\n",
    "\n",
    "trainset = torchvision.datasets.CIFAR10(root='./data', train=True,\n",
    "                                        download=True, transform=transform)\n",
    "trainloader = torch.utils.data.DataLoader(trainset, batch_size=4,\n",
    "                                          shuffle=True, num_workers=2)\n",
    "\n",
    "testset = torchvision.datasets.CIFAR10(root='./data', train=False,\n",
    "                                       download=True, transform=transform)\n",
    "testloader = torch.utils.data.DataLoader(testset, batch_size=4,\n",
    "                                         shuffle=False, num_workers=2)\n",
    "\n",
    "classes = ('plane', 'car', 'bird', 'cat',\n",
    "           'deer', 'dog', 'frog', 'horse', 'ship', 'truck')"
   ]
  },
  {
   "cell_type": "code",
   "execution_count": 189,
   "metadata": {},
   "outputs": [
    {
     "name": "stdout",
     "output_type": "stream",
     "text": [
      " ship  ship  bird truck\n"
     ]
    },
    {
     "data": {
      "image/png": "[encoded data removed]",
      "text/plain": [
       "<matplotlib.figure.Figure at 0x123fa50b8>"
      ]
     },
     "metadata": {},
     "output_type": "display_data"
    }
   ],
   "source": [
    "import matplotlib.pyplot as plt\n",
    "import numpy as np\n",
    "\n",
    "# functions to show an image\n",
    "\n",
    "\n",
    "def imshow(img):\n",
    "    img = img / 2 + 0.5     # unnormalize\n",
    "    npimg = img.numpy()\n",
    "    plt.imshow(np.transpose(npimg, (1, 2, 0)))\n",
    "\n",
    "\n",
    "# get some random training images\n",
    "dataiter = iter(trainloader)\n",
    "images, labels = dataiter.next()\n",
    "\n",
    "# show images\n",
    "imshow(torchvision.utils.make_grid(images))\n",
    "# print labels\n",
    "print(' '.join('%5s' % classes[labels[j]] for j in range(4)))"
   ]
  },
  {
   "cell_type": "code",
   "execution_count": 191,
   "metadata": {},
   "outputs": [],
   "source": [
    "\n",
    "class Nnet(nn.Module):\n",
    "    def __init__(self):\n",
    "        super(Nnet, self).__init__()\n",
    "        self.conv1 = nn.Conv2d(3, 6, 5)\n",
    "        self.pool = nn.MaxPool2d(2, 2)\n",
    "        self.conv2 = nn.Conv2d(6, 16, 5)\n",
    "        self.fc1 = nn.Linear(16 * 5 * 5, 120)\n",
    "        self.fc2 = nn.Linear(120, 84)\n",
    "        self.fc3 = nn.Linear(84, 10)\n",
    "\n",
    "    def forward(self, x):\n",
    "        x = self.pool(F.relu(self.conv1(x)))\n",
    "        x = self.pool(F.relu(self.conv2(x)))\n",
    "        x = x.view(-1, 16 * 5 * 5)\n",
    "        x = F.relu(self.fc1(x))\n",
    "        x = F.relu(self.fc2(x))\n",
    "        x = self.fc3(x)\n",
    "        return x\n",
    "\n",
    "\n",
    "nnet = Nnet()"
   ]
  },
  {
   "cell_type": "code",
   "execution_count": 192,
   "metadata": {},
   "outputs": [
    {
     "name": "stdout",
     "output_type": "stream",
     "text": [
      "[1,  2000] loss: 2.213\n",
      "[1,  4000] loss: 1.902\n",
      "[1,  6000] loss: 1.722\n",
      "[1,  8000] loss: 1.619\n",
      "[1, 10000] loss: 1.547\n",
      "[1, 12000] loss: 1.490\n",
      "[2,  2000] loss: 1.431\n",
      "[2,  4000] loss: 1.394\n",
      "[2,  6000] loss: 1.377\n",
      "[2,  8000] loss: 1.336\n",
      "[2, 10000] loss: 1.304\n",
      "[2, 12000] loss: 1.308\n",
      "Finished Training\n"
     ]
    }
   ],
   "source": [
    "criterion = nn.CrossEntropyLoss()\n",
    "optimizer = optim.SGD(net.parameters(), lr=0.001, momentum=0.9)\n",
    "\n",
    "for epoch in range(2):  # loop over the dataset multiple times\n",
    "\n",
    "    running_loss = 0.0\n",
    "    for i, data in enumerate(trainloader):\n",
    "        # get the inputs\n",
    "        inputs, labels = data\n",
    "\n",
    "        # wrap them in Variable\n",
    "        inputs, labels = Variable(inputs), Variable(labels)\n",
    "\n",
    "        # zero the parameter gradients\n",
    "        optimizer.zero_grad()\n",
    "\n",
    "        # forward + backward + optimize\n",
    "        outputs = net(inputs)\n",
    "        loss = criterion(outputs, labels)\n",
    "        loss.backward()\n",
    "        optimizer.step()\n",
    "\n",
    "        # print statistics\n",
    "        running_loss += loss.data[0]\n",
    "        if i % 2000 == 1999:    # print every 2000 mini-batches\n",
    "            print('[%d, %5d] loss: %.3f' %\n",
    "                  (epoch + 1, i + 1, running_loss / 2000))\n",
    "            running_loss = 0.0\n",
    "\n",
    "print('Finished Training')"
   ]
  },
  {
   "cell_type": "code",
   "execution_count": 196,
   "metadata": {},
   "outputs": [
    {
     "name": "stdout",
     "output_type": "stream",
     "text": [
      "GroundTruth:    cat  ship  ship plane\n",
      "Predicted:    cat plane truck plane\n"
     ]
    },
    {
     "data": {
      "image/png": "[encoded data removed]",
      "text/plain": [
       "<matplotlib.figure.Figure at 0x123bc3400>"
      ]
     },
     "metadata": {},
     "output_type": "display_data"
    }
   ],
   "source": [
    "# Now test to see if the network learned anything \n",
    "dataiter = iter(testloader)\n",
    "images, labels = dataiter.next()\n",
    "    \n",
    "# print images\n",
    "imshow(torchvision.utils.make_grid(images))\n",
    "print('GroundTruth: ', ' '.join('%5s' % classes[labels[j]] for j in range(4)))\n",
    "\n",
    "outputs = net(Variable(images))\n",
    "_, predicted = torch.max(outputs.data, 1)\n",
    "\n",
    "print('Predicted: ', ' '.join('%5s' % classes[predicted[j]]\n",
    "                              for j in range(4)))"
   ]
  },
  {
   "cell_type": "code",
   "execution_count": 197,
   "metadata": {},
   "outputs": [
    {
     "name": "stdout",
     "output_type": "stream",
     "text": [
      "Accuracy of the network on the 10000 test images: 51 %\n"
     ]
    }
   ],
   "source": [
    "# Accuracy on the entire dataset\n",
    "correct = 0\n",
    "total = 0\n",
    "for data in testloader:\n",
    "    images, labels = data\n",
    "    outputs = net(Variable(images))\n",
    "    _, predicted = torch.max(outputs.data, 1)\n",
    "    total += labels.size(0)\n",
    "    correct += (predicted == labels).sum()\n",
    "\n",
    "print('Accuracy of the network on the 10000 test images: %d %%' % (\n",
    "    100 * correct / total))"
   ]
  },
  {
   "cell_type": "code",
   "execution_count": 198,
   "metadata": {},
   "outputs": [
    {
     "name": "stdout",
     "output_type": "stream",
     "text": [
      "Accuracy of plane : 67 %\n",
      "Accuracy of   car : 45 %\n",
      "Accuracy of  bird : 23 %\n",
      "Accuracy of   cat : 43 %\n",
      "Accuracy of  deer : 58 %\n",
      "Accuracy of   dog : 42 %\n",
      "Accuracy of  frog : 59 %\n",
      "Accuracy of horse : 67 %\n",
      "Accuracy of  ship : 40 %\n",
      "Accuracy of truck : 71 %\n"
     ]
    }
   ],
   "source": [
    "# Accuracy by class\n",
    "class_correct = list(0. for i in range(10))\n",
    "class_total = list(0. for i in range(10))\n",
    "for data in testloader:\n",
    "    images, labels = data\n",
    "    outputs = net(Variable(images))\n",
    "    _, predicted = torch.max(outputs.data, 1)\n",
    "    c = (predicted == labels).squeeze()\n",
    "    for i in range(4):\n",
    "        label = labels[i]\n",
    "        class_correct[label] += c[i]\n",
    "        class_total[label] += 1\n",
    "\n",
    "\n",
    "for i in range(10):\n",
    "    print('Accuracy of %5s : %2d %%' % (\n",
    "        classes[i], 100 * class_correct[i] / class_total[i]))"
   ]
  },
  {
   "cell_type": "code",
   "execution_count": null,
   "metadata": {},
   "outputs": [],
   "source": []
  }
 ],
 "metadata": {
  "kernelspec": {
   "display_name": "Python 3",
   "language": "python",
   "name": "python3"
  },
  "language_info": {
   "codemirror_mode": {
    "name": "ipython",
    "version": 3
   },
   "file_extension": ".py",
   "mimetype": "text/x-python",
   "name": "python",
   "nbconvert_exporter": "python",
   "pygments_lexer": "ipython3",
   "version": "3.6.2"
  }
 },
 "nbformat": 4,
 "nbformat_minor": 2
}
